{
 "cells": [
  {
   "cell_type": "markdown",
   "id": "0b2d4c7a",
   "metadata": {},
   "source": [
    "First write a function that stores the path to every node starting from a root (For eg. 1 in our case) in a dictionary  \"superpath\""
   ]
  },
  {
   "cell_type": "code",
   "execution_count": 60,
   "id": "030266f6",
   "metadata": {},
   "outputs": [],
   "source": [
    "def store_path(graph,node,par,path,superpath):\n",
    "    superpath[node]=list(path)\n",
    "    for child in graph[node]:\n",
    "        if child!=par:\n",
    "            path.append(child)\n",
    "            store_path(graph,child,node,path,superpath)\n",
    "            path.pop()"
   ]
  },
  {
   "cell_type": "code",
   "execution_count": 62,
   "id": "4f099cc8",
   "metadata": {},
   "outputs": [
    {
     "data": {
      "text/plain": [
       "{1: [2, 3, 13],\n",
       " 2: [1, 5],\n",
       " 3: [1, 4],\n",
       " 4: [3, 9, 10],\n",
       " 5: [2, 6, 7, 8],\n",
       " 6: [5],\n",
       " 7: [5],\n",
       " 8: [5, 12],\n",
       " 9: [4],\n",
       " 10: [4, 11],\n",
       " 11: [10],\n",
       " 12: [8],\n",
       " 13: [1]}"
      ]
     },
     "execution_count": 62,
     "metadata": {},
     "output_type": "execute_result"
    }
   ],
   "source": [
    "ipt=[[1,2],[1,3],[1,13],[2,5],[5,6],[5,7],[5,8],[8,12],[3,4],[4,9],[4,10],[10,11]]\n",
    "n=13\n",
    "graph={}\n",
    "for i in range(1,n+1):\n",
    "    graph[i]=[]\n",
    "\n",
    "for (u,v) in ipt:\n",
    "    graph[u].append(v)\n",
    "    graph[v].append(u)\n",
    "graph"
   ]
  },
  {
   "cell_type": "code",
   "execution_count": 63,
   "id": "0d28d6b6",
   "metadata": {},
   "outputs": [
    {
     "data": {
      "text/plain": [
       "{1: [1],\n",
       " 2: [1, 2],\n",
       " 5: [1, 2, 5],\n",
       " 6: [1, 2, 5, 6],\n",
       " 7: [1, 2, 5, 7],\n",
       " 8: [1, 2, 5, 8],\n",
       " 12: [1, 2, 5, 8, 12],\n",
       " 3: [1, 3],\n",
       " 4: [1, 3, 4],\n",
       " 9: [1, 3, 4, 9],\n",
       " 10: [1, 3, 4, 10],\n",
       " 11: [1, 3, 4, 10, 11],\n",
       " 13: [1, 13]}"
      ]
     },
     "execution_count": 63,
     "metadata": {},
     "output_type": "execute_result"
    }
   ],
   "source": [
    "superpath={}\n",
    "store_path(graph,1,-1,[1],superpath)\n",
    "superpath"
   ]
  },
  {
   "cell_type": "markdown",
   "id": "44810912",
   "metadata": {},
   "source": [
    "Suppose we want the LCA of 6 & 7. See the path of both nodes in superpath dictionary. Start from first index of both the array, stops when the first non-common element occurs, the element before that will be the ans. Ans=5"
   ]
  },
  {
   "cell_type": "code",
   "execution_count": 66,
   "id": "67fef185",
   "metadata": {},
   "outputs": [
    {
     "data": {
      "text/plain": [
       "5"
      ]
     },
     "execution_count": 66,
     "metadata": {},
     "output_type": "execute_result"
    }
   ],
   "source": [
    "def LCA(n1,n2,superpath):\n",
    "    p1=superpath[n1]\n",
    "    p2=superpath[n2]\n",
    "    ptr=0\n",
    "    while True:\n",
    "        if p1[ptr]==p2[ptr]:\n",
    "            ptr+=1\n",
    "        else:\n",
    "            break\n",
    "    return p1[ptr-1]\n",
    "\n",
    "LCA(6,7,superpath)"
   ]
  },
  {
   "cell_type": "code",
   "execution_count": null,
   "id": "27cdf9e9",
   "metadata": {},
   "outputs": [],
   "source": []
  }
 ],
 "metadata": {
  "kernelspec": {
   "display_name": "Python 3 (ipykernel)",
   "language": "python",
   "name": "python3"
  },
  "language_info": {
   "codemirror_mode": {
    "name": "ipython",
    "version": 3
   },
   "file_extension": ".py",
   "mimetype": "text/x-python",
   "name": "python",
   "nbconvert_exporter": "python",
   "pygments_lexer": "ipython3",
   "version": "3.10.9"
  }
 },
 "nbformat": 4,
 "nbformat_minor": 5
}
