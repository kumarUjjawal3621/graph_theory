{
 "cells": [
  {
   "cell_type": "markdown",
   "id": "f9d9cb66",
   "metadata": {},
   "source": [
    "Print the number of nodes in a graph"
   ]
  },
  {
   "cell_type": "code",
   "execution_count": 26,
   "id": "9871ccf8",
   "metadata": {},
   "outputs": [],
   "source": [
    "def dfs(graph,node,visited):\n",
    "    s=0\n",
    "    #print(node)\n",
    "    visited.add(node)\n",
    "    for child in graph[node]:\n",
    "        if child not in visited:\n",
    "            s=s+dfs(graph,child,visited)\n",
    "    return s+1"
   ]
  },
  {
   "cell_type": "code",
   "execution_count": 30,
   "id": "a0c6d423",
   "metadata": {},
   "outputs": [],
   "source": [
    "# edges=[['A','B'],['A','C'],['A','D'],['D','E'],['B','E']]\n",
    "# nodes=['A','B','C','D','E']\n",
    "\n",
    "#It has 4 diffrent families of graphs\n",
    "edges=[['A','B'],['A','C'],['A','D'],['D','E'],['B','E'],['F','H'],['F','G'],['I','J']]\n",
    "nodes=['A','B','C','D','E','F','G','H','I','J','K']"
   ]
  },
  {
   "cell_type": "code",
   "execution_count": 31,
   "id": "ae6c0dde",
   "metadata": {},
   "outputs": [
    {
     "data": {
      "text/plain": [
       "{'A': ['B', 'C', 'D'],\n",
       " 'B': ['A', 'E'],\n",
       " 'C': ['A'],\n",
       " 'D': ['A', 'E'],\n",
       " 'E': ['D', 'B'],\n",
       " 'F': ['H', 'G'],\n",
       " 'G': ['F'],\n",
       " 'H': ['F'],\n",
       " 'I': ['J'],\n",
       " 'J': ['I'],\n",
       " 'K': []}"
      ]
     },
     "execution_count": 31,
     "metadata": {},
     "output_type": "execute_result"
    }
   ],
   "source": [
    "graph={}\n",
    "for item in nodes:\n",
    "    graph[item]=[]\n",
    "for (u,v) in edges:\n",
    "    graph[u].append(v)\n",
    "    graph[v].append(u)\n",
    "\n",
    "graph"
   ]
  },
  {
   "cell_type": "code",
   "execution_count": 32,
   "id": "cd017d3c",
   "metadata": {},
   "outputs": [
    {
     "name": "stdout",
     "output_type": "stream",
     "text": [
      "[5, 3, 2, 1]\n"
     ]
    }
   ],
   "source": [
    "visited=set()\n",
    "arr=[]\n",
    "for item in nodes:\n",
    "    if item not in visited:\n",
    "        arr.append(dfs(graph,item,visited))\n",
    "        \n",
    "print(arr)"
   ]
  },
  {
   "cell_type": "code",
   "execution_count": null,
   "id": "42af33de",
   "metadata": {},
   "outputs": [],
   "source": []
  },
  {
   "cell_type": "code",
   "execution_count": null,
   "id": "9ecfdf50",
   "metadata": {},
   "outputs": [],
   "source": []
  }
 ],
 "metadata": {
  "kernelspec": {
   "display_name": "Python 3 (ipykernel)",
   "language": "python",
   "name": "python3"
  },
  "language_info": {
   "codemirror_mode": {
    "name": "ipython",
    "version": 3
   },
   "file_extension": ".py",
   "mimetype": "text/x-python",
   "name": "python",
   "nbconvert_exporter": "python",
   "pygments_lexer": "ipython3",
   "version": "3.10.9"
  }
 },
 "nbformat": 4,
 "nbformat_minor": 5
}
