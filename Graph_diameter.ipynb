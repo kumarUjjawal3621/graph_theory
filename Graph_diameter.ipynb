{
 "cells": [
  {
   "cell_type": "markdown",
   "id": "80fbd086",
   "metadata": {},
   "source": [
    "Two step process:\n",
    "For any node as root identify the node with maximum depth, it will be one of the end of the dia.\n",
    "Consider that node as the root and then the maximum possible depth of a node will be the diameter of the graph."
   ]
  },
  {
   "cell_type": "code",
   "execution_count": 75,
   "id": "de7099b0",
   "metadata": {},
   "outputs": [],
   "source": [
    "def get_dia(graph,node,depth,count,visited):\n",
    "    print(node)\n",
    "    visited.add(node)\n",
    "    flag=0\n",
    "    for child in graph[node]:\n",
    "        if child not in visited:\n",
    "            flag=1\n",
    "            get_dia(graph,child,depth,count+1,visited)\n",
    "    if flag==0:\n",
    "        if count>depth[0]:\n",
    "            depth[0]=count\n",
    "            depth[1]=node"
   ]
  },
  {
   "cell_type": "code",
   "execution_count": 59,
   "id": "2310228c",
   "metadata": {},
   "outputs": [
    {
     "data": {
      "text/plain": [
       "{1: [2, 3, 8, 9],\n",
       " 2: [1, 4, 5, 6],\n",
       " 3: [1, 7],\n",
       " 4: [2],\n",
       " 5: [2],\n",
       " 6: [2, 10],\n",
       " 7: [3],\n",
       " 8: [1],\n",
       " 9: [1],\n",
       " 10: [6]}"
      ]
     },
     "execution_count": 59,
     "metadata": {},
     "output_type": "execute_result"
    }
   ],
   "source": [
    "ipt=[[1,2],[1,3],[1,8],[2,4],[2,5],[2,6],[3,7],[6,10],[1,9]]\n",
    "n=10\n",
    "adjlist={}\n",
    "for i in range(1,n+1):\n",
    "    adjlist[i]=[]\n",
    "for (u,v) in ipt:\n",
    "    adjlist[u].append(v)\n",
    "    adjlist[v].append(u)\n",
    "adjlist"
   ]
  },
  {
   "cell_type": "code",
   "execution_count": 66,
   "id": "0e39a7a1",
   "metadata": {},
   "outputs": [
    {
     "name": "stdout",
     "output_type": "stream",
     "text": [
      "1\n",
      "2\n",
      "4\n",
      "5\n",
      "6\n",
      "10\n",
      "3\n",
      "7\n",
      "8\n",
      "9\n"
     ]
    }
   ],
   "source": [
    "depth1=[0,1]\n",
    "visited=set()\n",
    "get_dia(adjlist,1,depth1,0,visited)"
   ]
  },
  {
   "cell_type": "code",
   "execution_count": 67,
   "id": "a9085679",
   "metadata": {},
   "outputs": [
    {
     "data": {
      "text/plain": [
       "[3, 10]"
      ]
     },
     "execution_count": 67,
     "metadata": {},
     "output_type": "execute_result"
    }
   ],
   "source": [
    "depth"
   ]
  },
  {
   "cell_type": "code",
   "execution_count": 70,
   "id": "37bb96ef",
   "metadata": {},
   "outputs": [
    {
     "name": "stdout",
     "output_type": "stream",
     "text": [
      "10\n",
      "6\n",
      "2\n",
      "1\n",
      "3\n",
      "7\n",
      "8\n",
      "9\n",
      "4\n",
      "5\n"
     ]
    }
   ],
   "source": [
    "depth2=[0,1]\n",
    "visited=set()\n",
    "get_dia(adjlist,depth1[1],depth2,0,visited)"
   ]
  },
  {
   "cell_type": "code",
   "execution_count": 71,
   "id": "bca55e87",
   "metadata": {},
   "outputs": [
    {
     "data": {
      "text/plain": [
       "[5, 7]"
      ]
     },
     "execution_count": 71,
     "metadata": {},
     "output_type": "execute_result"
    }
   ],
   "source": [
    "depth2"
   ]
  },
  {
   "cell_type": "code",
   "execution_count": 74,
   "id": "f92966de",
   "metadata": {},
   "outputs": [
    {
     "data": {
      "text/plain": [
       "5"
      ]
     },
     "execution_count": 74,
     "metadata": {},
     "output_type": "execute_result"
    }
   ],
   "source": [
    "diameter=depth2[0]\n",
    "diameter"
   ]
  }
 ],
 "metadata": {
  "kernelspec": {
   "display_name": "Python 3 (ipykernel)",
   "language": "python",
   "name": "python3"
  },
  "language_info": {
   "codemirror_mode": {
    "name": "ipython",
    "version": 3
   },
   "file_extension": ".py",
   "mimetype": "text/x-python",
   "name": "python",
   "nbconvert_exporter": "python",
   "pygments_lexer": "ipython3",
   "version": "3.10.9"
  }
 },
 "nbformat": 4,
 "nbformat_minor": 5
}
