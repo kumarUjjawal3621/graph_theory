{
 "cells": [
  {
   "cell_type": "markdown",
   "id": "c2318531",
   "metadata": {},
   "source": [
    "#Representation of graph"
   ]
  },
  {
   "cell_type": "code",
   "execution_count": 1,
   "id": "b7801eb1",
   "metadata": {},
   "outputs": [],
   "source": [
    "# 6 nodes and 9 edges\n",
    "n=6\n",
    "m=9\n",
    "ipt=[[0,1],[0,2],[0,3],[0,4],[1,3],[2,3],[2,4],[2,5],[3,5]]"
   ]
  },
  {
   "cell_type": "markdown",
   "id": "ff9f7951",
   "metadata": {},
   "source": [
    "Adjacency matrix"
   ]
  },
  {
   "cell_type": "code",
   "execution_count": 6,
   "id": "26eb12f0",
   "metadata": {},
   "outputs": [
    {
     "data": {
      "text/plain": [
       "[[0, 0, 0, 0, 0, 0],\n",
       " [0, 0, 0, 0, 0, 0],\n",
       " [0, 0, 0, 0, 0, 0],\n",
       " [0, 0, 0, 0, 0, 0],\n",
       " [0, 0, 0, 0, 0, 0],\n",
       " [0, 0, 0, 0, 0, 0]]"
      ]
     },
     "execution_count": 6,
     "metadata": {},
     "output_type": "execute_result"
    }
   ],
   "source": [
    "adjmat=[[0 for i in range(n)]for j in range(n)]\n",
    "adjmat"
   ]
  },
  {
   "cell_type": "code",
   "execution_count": 7,
   "id": "9ff226fb",
   "metadata": {},
   "outputs": [
    {
     "data": {
      "text/plain": [
       "[[0, 1, 1, 1, 1, 0],\n",
       " [1, 0, 0, 1, 0, 0],\n",
       " [1, 0, 0, 1, 1, 1],\n",
       " [1, 1, 1, 0, 0, 1],\n",
       " [1, 0, 1, 0, 0, 0],\n",
       " [0, 0, 1, 1, 0, 0]]"
      ]
     },
     "execution_count": 7,
     "metadata": {},
     "output_type": "execute_result"
    }
   ],
   "source": [
    "for (u,v) in ipt:\n",
    "    adjmat[u][v]=1\n",
    "    adjmat[v][u]=1\n",
    "adjmat"
   ]
  },
  {
   "cell_type": "markdown",
   "id": "af671333",
   "metadata": {},
   "source": [
    "Adjacency list"
   ]
  },
  {
   "cell_type": "code",
   "execution_count": 8,
   "id": "195dc79e",
   "metadata": {},
   "outputs": [
    {
     "data": {
      "text/plain": [
       "{0: [], 1: [], 2: [], 3: [], 4: [], 5: []}"
      ]
     },
     "execution_count": 8,
     "metadata": {},
     "output_type": "execute_result"
    }
   ],
   "source": [
    "adjlist={}\n",
    "for i in range(n):\n",
    "    adjlist[i]=[]\n",
    "adjlist"
   ]
  },
  {
   "cell_type": "code",
   "execution_count": 9,
   "id": "aa2c170d",
   "metadata": {},
   "outputs": [
    {
     "data": {
      "text/plain": [
       "{0: [1, 2, 3, 4],\n",
       " 1: [0, 3],\n",
       " 2: [0, 3, 4, 5],\n",
       " 3: [0, 1, 2, 5],\n",
       " 4: [0, 2],\n",
       " 5: [2, 3]}"
      ]
     },
     "execution_count": 9,
     "metadata": {},
     "output_type": "execute_result"
    }
   ],
   "source": [
    "for (u,v) in ipt:\n",
    "    adjlist[u].append(v)\n",
    "    adjlist[v].append(u)\n",
    "adjlist"
   ]
  },
  {
   "cell_type": "markdown",
   "id": "3fc1c9e8",
   "metadata": {},
   "source": [
    "Convert adjmat to adjlist"
   ]
  },
  {
   "cell_type": "code",
   "execution_count": 11,
   "id": "0914205d",
   "metadata": {},
   "outputs": [
    {
     "data": {
      "text/plain": [
       "{0: [1, 2, 3, 4],\n",
       " 1: [0, 3],\n",
       " 2: [0, 3, 4, 5],\n",
       " 3: [0, 1, 2, 5],\n",
       " 4: [0, 2],\n",
       " 5: [2, 3]}"
      ]
     },
     "execution_count": 11,
     "metadata": {},
     "output_type": "execute_result"
    }
   ],
   "source": [
    "adjlist={}\n",
    "for i in range(n):\n",
    "    adjlist[i]=[]\n",
    "adjlist\n",
    "\n",
    "for i in range(len(adjmat)):\n",
    "    for j in range(i+1,len(adjmat)):\n",
    "        if adjmat[i][j]==1:\n",
    "            adjlist[i].append(j)\n",
    "            adjlist[j].append(i)\n",
    "adjlist"
   ]
  },
  {
   "cell_type": "code",
   "execution_count": null,
   "id": "42de5393",
   "metadata": {},
   "outputs": [],
   "source": []
  }
 ],
 "metadata": {
  "kernelspec": {
   "display_name": "Python 3 (ipykernel)",
   "language": "python",
   "name": "python3"
  },
  "language_info": {
   "codemirror_mode": {
    "name": "ipython",
    "version": 3
   },
   "file_extension": ".py",
   "mimetype": "text/x-python",
   "name": "python",
   "nbconvert_exporter": "python",
   "pygments_lexer": "ipython3",
   "version": "3.10.9"
  }
 },
 "nbformat": 4,
 "nbformat_minor": 5
}
