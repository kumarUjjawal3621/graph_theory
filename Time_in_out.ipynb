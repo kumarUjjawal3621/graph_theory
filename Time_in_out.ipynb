{
 "cells": [
  {
   "cell_type": "code",
   "execution_count": 78,
   "id": "e11d955f",
   "metadata": {},
   "outputs": [],
   "source": [
    "def dfs(graph,node,visited,timerecord,time):\n",
    "    timerecord[node].append(time[0])\n",
    "    visited.add(node)\n",
    "    for child in graph[node]:\n",
    "        if child not in visited:\n",
    "            time[0]+=1\n",
    "            dfs(graph,child,visited,timerecord,time)\n",
    "    time[0]+=1\n",
    "    timerecord[node].append(time[0])"
   ]
  },
  {
   "cell_type": "markdown",
   "id": "24b84ab5",
   "metadata": {},
   "source": [
    "Note that if we keep time as a variable it wont get updated for all the function calls inside a function call"
   ]
  },
  {
   "cell_type": "code",
   "execution_count": 79,
   "id": "e2a734d8",
   "metadata": {},
   "outputs": [
    {
     "data": {
      "text/plain": [
       "({1: [2, 3, 8],\n",
       "  2: [1, 4, 5, 6],\n",
       "  3: [1, 7],\n",
       "  4: [2],\n",
       "  5: [2],\n",
       "  6: [2],\n",
       "  7: [3],\n",
       "  8: [1]},\n",
       " {1: [], 2: [], 3: [], 4: [], 5: [], 6: [], 7: [], 8: []})"
      ]
     },
     "execution_count": 79,
     "metadata": {},
     "output_type": "execute_result"
    }
   ],
   "source": [
    "ipt=[[1,2],[1,3],[1,8],[2,4],[2,5],[2,6],[3,7]]\n",
    "n=8\n",
    "adjlist={}\n",
    "timerecord={}\n",
    "for i in range(1,n+1):\n",
    "    adjlist[i]=[]\n",
    "    timerecord[i]=[]\n",
    "for (u,v) in ipt:\n",
    "    adjlist[u].append(v)\n",
    "    adjlist[v].append(u)\n",
    "adjlist,timerecord"
   ]
  },
  {
   "cell_type": "code",
   "execution_count": 80,
   "id": "dc7c51db",
   "metadata": {},
   "outputs": [
    {
     "name": "stdout",
     "output_type": "stream",
     "text": [
      "1\n",
      "2\n",
      "4\n",
      "5\n",
      "6\n",
      "3\n",
      "7\n",
      "8\n"
     ]
    }
   ],
   "source": [
    "dfs(adjlist,1,set(),timerecord,[1])"
   ]
  },
  {
   "cell_type": "code",
   "execution_count": 81,
   "id": "7b0d1160",
   "metadata": {},
   "outputs": [
    {
     "name": "stdout",
     "output_type": "stream",
     "text": [
      "{1: [1, 16], 2: [2, 9], 3: [10, 13], 4: [3, 4], 5: [5, 6], 6: [7, 8], 7: [11, 12], 8: [14, 15]}\n"
     ]
    }
   ],
   "source": [
    "print(timerecord)"
   ]
  },
  {
   "cell_type": "code",
   "execution_count": null,
   "id": "f555e33f",
   "metadata": {},
   "outputs": [],
   "source": []
  },
  {
   "cell_type": "code",
   "execution_count": null,
   "id": "284fce9b",
   "metadata": {},
   "outputs": [],
   "source": []
  }
 ],
 "metadata": {
  "kernelspec": {
   "display_name": "Python 3 (ipykernel)",
   "language": "python",
   "name": "python3"
  },
  "language_info": {
   "codemirror_mode": {
    "name": "ipython",
    "version": 3
   },
   "file_extension": ".py",
   "mimetype": "text/x-python",
   "name": "python",
   "nbconvert_exporter": "python",
   "pygments_lexer": "ipython3",
   "version": "3.10.9"
  }
 },
 "nbformat": 4,
 "nbformat_minor": 5
}
