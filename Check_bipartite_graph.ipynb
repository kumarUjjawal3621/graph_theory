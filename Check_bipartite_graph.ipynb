{
 "cells": [
  {
   "cell_type": "code",
   "execution_count": 13,
   "id": "bea3253a",
   "metadata": {},
   "outputs": [],
   "source": [
    "def bipartite(graph,node,color,c,visited):\n",
    "    color[node]=c\n",
    "    visited.add(node)\n",
    "    for child in graph[node]:\n",
    "        if child not in visited:\n",
    "            temp=bipartite(graph,child,color,c^1,visited)\n",
    "            if temp==False:\n",
    "                return False\n",
    "        elif color[child]==color[node]:\n",
    "            return False\n",
    "    return True\n",
    "            "
   ]
  },
  {
   "cell_type": "code",
   "execution_count": 19,
   "id": "b28e13a9",
   "metadata": {},
   "outputs": [],
   "source": [
    "# ipt=[[1,2],[1,3],[3,4],[2,4],[2,5],[4,5]]\n",
    "# n=5\n",
    "\n",
    "ipt=[[1,2],[2,3],[3,6],[6,5],[5,4],[4,1]]\n",
    "n=6"
   ]
  },
  {
   "cell_type": "code",
   "execution_count": 20,
   "id": "3b54f91a",
   "metadata": {},
   "outputs": [
    {
     "data": {
      "text/plain": [
       "{1: [2, 4], 2: [1, 3], 3: [2, 6], 4: [5, 1], 5: [6, 4], 6: [3, 5]}"
      ]
     },
     "execution_count": 20,
     "metadata": {},
     "output_type": "execute_result"
    }
   ],
   "source": [
    "graph={}\n",
    "color={}\n",
    "for i in range(1,n+1):\n",
    "    graph[i]=[]\n",
    "    color[i]=None\n",
    "for (u,v) in ipt:\n",
    "    graph[u].append(v)\n",
    "    graph[v].append(u)\n",
    "graph"
   ]
  },
  {
   "cell_type": "code",
   "execution_count": 21,
   "id": "a5dbe326",
   "metadata": {},
   "outputs": [
    {
     "data": {
      "text/plain": [
       "True"
      ]
     },
     "execution_count": 21,
     "metadata": {},
     "output_type": "execute_result"
    }
   ],
   "source": [
    "visited=set()\n",
    "bipartite(graph,1,color,1,visited) #return true or false"
   ]
  },
  {
   "cell_type": "code",
   "execution_count": null,
   "id": "58bf1302",
   "metadata": {},
   "outputs": [],
   "source": []
  }
 ],
 "metadata": {
  "kernelspec": {
   "display_name": "Python 3 (ipykernel)",
   "language": "python",
   "name": "python3"
  },
  "language_info": {
   "codemirror_mode": {
    "name": "ipython",
    "version": 3
   },
   "file_extension": ".py",
   "mimetype": "text/x-python",
   "name": "python",
   "nbconvert_exporter": "python",
   "pygments_lexer": "ipython3",
   "version": "3.10.9"
  }
 },
 "nbformat": 4,
 "nbformat_minor": 5
}
