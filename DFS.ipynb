{
 "cells": [
  {
   "cell_type": "code",
   "execution_count": 11,
   "id": "1e3a0b3b",
   "metadata": {},
   "outputs": [],
   "source": [
    "def dfs(graph,node,visited):\n",
    "    print(node)\n",
    "    visited.add(node)\n",
    "    for child in graph[node]:\n",
    "        if child not in visited:\n",
    "            dfs(graph,child,visited)"
   ]
  },
  {
   "cell_type": "code",
   "execution_count": 16,
   "id": "a95dc0dc",
   "metadata": {},
   "outputs": [
    {
     "data": {
      "text/plain": [
       "{1: [2, 5],\n",
       " 2: [1, 5, 4, 3],\n",
       " 3: [4, 6, 2],\n",
       " 4: [5, 2, 6, 3],\n",
       " 5: [1, 2, 4, 6],\n",
       " 6: [5, 4, 3]}"
      ]
     },
     "execution_count": 16,
     "metadata": {},
     "output_type": "execute_result"
    }
   ],
   "source": [
    "# 6 nodes and 9 edges\n",
    "n=6\n",
    "# ipt=[[1,3],[1,5],[2,3],[2,4],[2,5],[3,4],[3,6],[4,5],[4,6],[5,6]]\n",
    "ipt=[[1,2],[1,5],[2,5],[4,5],[2,4],[5,6],[4,6],[3,4],[3,6],[3,2]]\n",
    "\n",
    "graph={}\n",
    "for i in range(1,n+1):\n",
    "    graph[i]=[]\n",
    "\n",
    "for (u,v) in ipt:\n",
    "    graph[u].append(v)\n",
    "    graph[v].append(u)\n",
    "graph"
   ]
  },
  {
   "cell_type": "code",
   "execution_count": 17,
   "id": "ea1b73f3",
   "metadata": {},
   "outputs": [
    {
     "name": "stdout",
     "output_type": "stream",
     "text": [
      "1\n",
      "2\n",
      "5\n",
      "4\n",
      "6\n",
      "3\n"
     ]
    }
   ],
   "source": [
    "visited=set()\n",
    "dfs(graph,1,visited)"
   ]
  }
 ],
 "metadata": {
  "kernelspec": {
   "display_name": "Python 3 (ipykernel)",
   "language": "python",
   "name": "python3"
  },
  "language_info": {
   "codemirror_mode": {
    "name": "ipython",
    "version": 3
   },
   "file_extension": ".py",
   "mimetype": "text/x-python",
   "name": "python",
   "nbconvert_exporter": "python",
   "pygments_lexer": "ipython3",
   "version": "3.10.9"
  }
 },
 "nbformat": 4,
 "nbformat_minor": 5
}
