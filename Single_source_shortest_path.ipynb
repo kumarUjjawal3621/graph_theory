{
 "cells": [
  {
   "cell_type": "markdown",
   "id": "10ca2ba2",
   "metadata": {},
   "source": [
    "SINGLE SOURCE SHORTEST PATH"
   ]
  },
  {
   "cell_type": "code",
   "execution_count": 3,
   "id": "17664272",
   "metadata": {},
   "outputs": [],
   "source": [
    "def sssp(graph,node,d,distance,parent):\n",
    "    distance[node]=d\n",
    "    for child in graph[node]:\n",
    "        if child!=parent:\n",
    "            distance[child]=d+1\n",
    "            sssp(graph,child,d+1,distance,node)"
   ]
  },
  {
   "cell_type": "code",
   "execution_count": 7,
   "id": "f92c3fce",
   "metadata": {},
   "outputs": [
    {
     "data": {
      "text/plain": [
       "{'A': ['B', 'C'],\n",
       " 'B': ['A', 'D'],\n",
       " 'C': ['A', 'E', 'F'],\n",
       " 'D': ['B', 'G'],\n",
       " 'E': ['C'],\n",
       " 'F': ['C'],\n",
       " 'G': ['D', 'I', 'H'],\n",
       " 'H': ['G'],\n",
       " 'I': ['G']}"
      ]
     },
     "execution_count": 7,
     "metadata": {},
     "output_type": "execute_result"
    }
   ],
   "source": [
    "#It has 4 diffrent families of graphs\n",
    "edges=[['A','B'],['A','C'],['C','E'],['C','F'],['B','D'],['D','G'],['G','I'],['G','H']]\n",
    "nodes=['A','B','C','D','E','F','G','H','I']\n",
    "graph={}\n",
    "for item in nodes:\n",
    "    graph[item]=[]\n",
    "for (u,v) in edges:\n",
    "    graph[u].append(v)\n",
    "    graph[v].append(u)\n",
    "graph"
   ]
  },
  {
   "cell_type": "code",
   "execution_count": 6,
   "id": "4a3e3608",
   "metadata": {},
   "outputs": [
    {
     "name": "stdout",
     "output_type": "stream",
     "text": [
      "{'A': 0, 'B': 1, 'D': 2, 'G': 3, 'I': 4, 'H': 4, 'C': 1, 'E': 2, 'F': 2}\n"
     ]
    }
   ],
   "source": [
    "distance={}\n",
    "distance['A']=0\n",
    "sssp(graph,'A',0,distance,-1)\n",
    "print(distance)"
   ]
  },
  {
   "cell_type": "code",
   "execution_count": null,
   "id": "a84bc121",
   "metadata": {},
   "outputs": [],
   "source": []
  }
 ],
 "metadata": {
  "kernelspec": {
   "display_name": "Python 3 (ipykernel)",
   "language": "python",
   "name": "python3"
  },
  "language_info": {
   "codemirror_mode": {
    "name": "ipython",
    "version": 3
   },
   "file_extension": ".py",
   "mimetype": "text/x-python",
   "name": "python",
   "nbconvert_exporter": "python",
   "pygments_lexer": "ipython3",
   "version": "3.10.9"
  }
 },
 "nbformat": 4,
 "nbformat_minor": 5
}
