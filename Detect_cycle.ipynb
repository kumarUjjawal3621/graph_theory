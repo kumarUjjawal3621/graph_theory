{
 "cells": [
  {
   "cell_type": "code",
   "execution_count": 33,
   "id": "d4031929",
   "metadata": {},
   "outputs": [],
   "source": [
    "def detect_cycle(graph,node,par,visited):\n",
    "    visited.add(node)\n",
    "    for child in graph[node]:\n",
    "        if child!=par and child in visited:\n",
    "            return True\n",
    "        elif child!=par:\n",
    "            temp=detect_cycle(graph,child,node,visited)\n",
    "            if temp==True:\n",
    "                return True\n",
    "    return False\n",
    "        "
   ]
  },
  {
   "cell_type": "code",
   "execution_count": 43,
   "id": "638bc114",
   "metadata": {},
   "outputs": [],
   "source": [
    "ipt=[[1,2],[1,3],[3,4]]\n",
    "n=4"
   ]
  },
  {
   "cell_type": "code",
   "execution_count": 44,
   "id": "01ed1629",
   "metadata": {},
   "outputs": [
    {
     "data": {
      "text/plain": [
       "{1: [2, 3], 2: [1], 3: [1, 4], 4: [3]}"
      ]
     },
     "execution_count": 44,
     "metadata": {},
     "output_type": "execute_result"
    }
   ],
   "source": [
    "graph={}\n",
    "color={}\n",
    "for i in range(1,n+1):\n",
    "    graph[i]=[]\n",
    "for (u,v) in ipt:\n",
    "    graph[u].append(v)\n",
    "    graph[v].append(u)\n",
    "graph"
   ]
  },
  {
   "cell_type": "code",
   "execution_count": 45,
   "id": "83c29e42",
   "metadata": {},
   "outputs": [
    {
     "data": {
      "text/plain": [
       "False"
      ]
     },
     "execution_count": 45,
     "metadata": {},
     "output_type": "execute_result"
    }
   ],
   "source": [
    "visited=set()\n",
    "detect_cycle(graph,1,-1,visited) #return true if cycle else false"
   ]
  },
  {
   "cell_type": "code",
   "execution_count": null,
   "id": "0767fa30",
   "metadata": {},
   "outputs": [],
   "source": []
  }
 ],
 "metadata": {
  "kernelspec": {
   "display_name": "Python 3 (ipykernel)",
   "language": "python",
   "name": "python3"
  },
  "language_info": {
   "codemirror_mode": {
    "name": "ipython",
    "version": 3
   },
   "file_extension": ".py",
   "mimetype": "text/x-python",
   "name": "python",
   "nbconvert_exporter": "python",
   "pygments_lexer": "ipython3",
   "version": "3.10.9"
  }
 },
 "nbformat": 4,
 "nbformat_minor": 5
}
